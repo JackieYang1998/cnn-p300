{
 "cells": [
  {
   "cell_type": "code",
   "execution_count": 1,
   "metadata": {},
   "outputs": [],
   "source": [
    "import os\n",
    "import re\n",
    "import pickle\n",
    "import numpy as np\n",
    "from scipy.io import loadmat\n",
    "from pprint import pprint"
   ]
  },
  {
   "cell_type": "code",
   "execution_count": null,
   "metadata": {},
   "outputs": [],
   "source": [
    "# function to collect matching files and dirs\n",
    "def collect_files(root, res, pattern=\"\", collect_dirs=True, min_depth=None, max_depth=None):\n",
    "    \n",
    "    # check max depth\n",
    "    if not max_depth is None and max_depth == 0:\n",
    "        return\n",
    "    \n",
    "    # go through all item in the dir\n",
    "    for item in os.listdir(root):\n",
    "        \n",
    "        # process item\n",
    "        item_path = os.path.join(root, item)\n",
    "        item_is_dir = os.path.isdir(item_path)\n",
    "        \n",
    "        # pull valid file in res if min depth has reached\n",
    "        if min_depth is None or min_depth - 1 <= 0:\n",
    "            if re.match(pattern, item_path):\n",
    "                if not item_is_dir or collect_dirs:\n",
    "                    res.append(item_path)\n",
    "        \n",
    "        # recursively collect all files\n",
    "        if item_is_dir:\n",
    "            next_min_depth = None if min_depth is None else min_depth - 1\n",
    "            next_max_depth = None if max_depth is None else max_depth - 1\n",
    "            collect_files(item_path, res, pattern, collect_dirs, next_min_depth, next_max_depth)"
   ]
  },
  {
   "cell_type": "code",
   "execution_count": null,
   "metadata": {},
   "outputs": [],
   "source": [
    "# collect the mat files\n",
    "mat_files = []\n",
    "collect_files(\"./\", mat_files, pattern=\".*\\.mat$\", collect_dirs=False)\n",
    "mat_files.sort()\n",
    "mat_files"
   ]
  },
  {
   "cell_type": "code",
   "execution_count": null,
   "metadata": {},
   "outputs": [],
   "source": [
    "# load all data into memory\n",
    "# all_data[i] means data for ith subject\n",
    "all_data = []\n",
    "for i, mat_file in enumerate(mat_files):\n",
    "    \n",
    "    # re-index tmp into a dictionary\n",
    "    tmp = loadmat(mat_file)[\"data\"][0][0]\n",
    "    tmp = {name: data for name, data in zip(tmp.dtype.names, tmp)}\n",
    "    \n",
    "    # rename column\n",
    "    tmp[\"x\"] = tmp[\"X\"]\n",
    "    del tmp[\"X\"]\n",
    "    \n",
    "    # reshape columns\n",
    "    tmp[\"y\"] = tmp[\"y\"].reshape(-1)\n",
    "    tmp[\"y_stim\"] = tmp[\"y_stim\"].reshape(-1)\n",
    "    tmp[\"trial\"] = tmp[\"trial\"].reshape(-1)\n",
    "    \n",
    "    # add subject info\n",
    "    tmp[\"subject\"] = i + 1\n",
    "    \n",
    "    all_data.append(tmp)"
   ]
  },
  {
   "cell_type": "code",
   "execution_count": null,
   "metadata": {},
   "outputs": [],
   "source": [
    "pprint(all_data[1])"
   ]
  },
  {
   "cell_type": "code",
   "execution_count": null,
   "metadata": {},
   "outputs": [],
   "source": [
    "# constants for data_extraction\n",
    "sample_rate = 250 #hz\n",
    "tick_len = 1000 // sample_rate # ms\n",
    "pre_epoch = 0 #ms\n",
    "post_epoch = 700 #ms"
   ]
  },
  {
   "cell_type": "code",
   "execution_count": null,
   "metadata": {},
   "outputs": [],
   "source": [
    "# give raw eeg data and tick times, return 2d signals\n",
    "def extract_epochs(raw, ticks):\n",
    "    pre_tick = int(pre_epoch // tick_len)\n",
    "    post_tick = int(post_epoch // tick_len)\n",
    "    raw_len = len(raw)\n",
    "    signals = []\n",
    "    for t in ticks:\n",
    "        if t + post_tick <= raw_len: \n",
    "            signal = raw[t-pre_tick:t+post_tick, :]\n",
    "            signals.append(signal)\n",
    "    return np.array(signals)"
   ]
  },
  {
   "cell_type": "code",
   "execution_count": null,
   "metadata": {},
   "outputs": [],
   "source": [
    "# extract epochs for every subject\n",
    "for i, data in enumerate(all_data):\n",
    "    \n",
    "    # extract from raw\n",
    "    ticks, y_stim, y = data[\"flash\"][:, [0, 2, 3]].T\n",
    "    raw = data[\"x\"]\n",
    "    \n",
    "    # get the epochs\n",
    "    epochs = extract_epochs(raw, ticks)\n",
    "    \n",
    "    # label the epochs\n",
    "    for j, x in enumerate(y):\n",
    "        assert x == 1 or x == 2\n",
    "        y[j] = 1 if x == 2 else 0\n",
    "    \n",
    "    # trim extra y and y_stim\n",
    "    y = y[:len(epochs)]\n",
    "    y_stim = y_stim[:len(epochs)]\n",
    "    \n",
    "    assert len(epochs) == len(y) and len(y) == len(y_stim)\n",
    "    \n",
    "    samples = np.array(list(zip(epochs, y, y_stim)))\n",
    "    \n",
    "    # save the data\n",
    "    with open(f\"s{i+1}.pkl\", \"wb\") as outfile:\n",
    "        pickle.dump(samples, outfile)"
   ]
  },
  {
   "cell_type": "code",
   "execution_count": null,
   "metadata": {},
   "outputs": [],
   "source": [
    "with open(\"s1.pkl\", \"rb\") as infile:\n",
    "    data = pickle.load(infile)"
   ]
  },
  {
   "cell_type": "code",
   "execution_count": null,
   "metadata": {},
   "outputs": [],
   "source": [
    "a = []\n",
    "for i in data[:, 0]:\n",
    "    a.append(i)\n",
    "np.array(a).shape"
   ]
  },
  {
   "cell_type": "code",
   "execution_count": 2,
   "metadata": {},
   "outputs": [
    {
     "name": "stdout",
     "output_type": "stream",
     "text": [
      "700 3500\n",
      "700 3498\n",
      "700 3499\n",
      "700 3498\n",
      "698 3500\n",
      "700 3498\n",
      "698 3500\n",
      "700 3498\n"
     ]
    }
   ],
   "source": [
    "for i in range(1, 9):\n",
    "    with open(f\"s{i}.pkl\", \"rb\") as infile:\n",
    "        data = pickle.load(infile)\n",
    "        target = np.sum(data[:, 1])\n",
    "        print(target, len(data) - target)"
   ]
  },
  {
   "cell_type": "code",
   "execution_count": null,
   "metadata": {},
   "outputs": [],
   "source": []
  }
 ],
 "metadata": {
  "kernelspec": {
   "display_name": "Python 3",
   "language": "python",
   "name": "python3"
  },
  "language_info": {
   "codemirror_mode": {
    "name": "ipython",
    "version": 3
   },
   "file_extension": ".py",
   "mimetype": "text/x-python",
   "name": "python",
   "nbconvert_exporter": "python",
   "pygments_lexer": "ipython3",
   "version": "3.6.10"
  }
 },
 "nbformat": 4,
 "nbformat_minor": 4
}
